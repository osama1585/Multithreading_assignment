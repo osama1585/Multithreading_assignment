{
 "cells": [
  {
   "cell_type": "markdown",
   "id": "fcc965e1-aa5a-4d0b-8d68-5ec88bac5634",
   "metadata": {},
   "source": [
    "***MULTITHREADING ASSIGNMENT***"
   ]
  },
  {
   "cell_type": "markdown",
   "id": "dafd1d92-2290-4839-b52c-69aceb4e3692",
   "metadata": {},
   "source": [
    "Q1.what is multithreading in python? hy is it used? Name the module used to handle threads in python"
   ]
  },
  {
   "cell_type": "markdown",
   "id": "82d9144f-7343-453f-b956-26ac162db1a1",
   "metadata": {},
   "source": [
    "Ans-"
   ]
  },
  {
   "cell_type": "markdown",
   "id": "6de15cc0-2e24-4982-a66d-3ed3fe793c12",
   "metadata": {},
   "source": [
    "***Multithreading-:***\n",
    "Multithreading is defined as the ability of a processor to execute multiple threads concurrently. In a simple, single-core CPU, it is achieved using frequent switching between threads. This is termed context switching."
   ]
  },
  {
   "cell_type": "markdown",
   "id": "e9572638-d92f-4353-88e6-c84b8be0f2b6",
   "metadata": {},
   "source": [
    "Multithreading in Python is used primarily to achieve concurrent execution of tasks within a single process. "
   ]
  },
  {
   "cell_type": "markdown",
   "id": "d04e338d-fd3f-4026-8074-2810fd9cd467",
   "metadata": {},
   "source": [
    "The module used to handle threads in Python is called the ***threading*** module"
   ]
  },
  {
   "cell_type": "markdown",
   "id": "88060785-49c6-4a54-aac0-30d74cc19ed2",
   "metadata": {},
   "source": [
    "Q2.why threading module used? rite the use of the following functions\n",
    "( activeCount\n",
    " currentThread\n",
    " enumerate)"
   ]
  },
  {
   "cell_type": "markdown",
   "id": "4e15c9dc-8aaa-4a85-ba77-edbfb52736e2",
   "metadata": {},
   "source": [
    "Ans-"
   ]
  },
  {
   "cell_type": "code",
   "execution_count": 7,
   "id": "d3a252f9-6919-4c2a-b8ab-65128b59291b",
   "metadata": {},
   "outputs": [
    {
     "name": "stdout",
     "output_type": "stream",
     "text": [
      "sleeping for 5 second\n",
      "sleeping for 2 second\n",
      "sleeping for 1 second\n",
      "3.0778348445892334e-05\n",
      "number of active threads: 8\n",
      "number of current threads: MainThread\n",
      "enumerating thread:\n",
      "MainThread True\n",
      "IOPub True\n",
      "Heartbeat True\n",
      "Thread-3 (_watch_pipe_fd) True\n",
      "Thread-4 (_watch_pipe_fd) True\n",
      "Control True\n",
      "IPythonHistorySavingThread True\n",
      "Thread-2 True\n"
     ]
    },
    {
     "name": "stderr",
     "output_type": "stream",
     "text": [
      "/tmp/ipykernel_591/1336182795.py:25: DeprecationWarning: activeCount() is deprecated, use active_count() instead\n",
      "  print(\"number of active threads:\" , threading.activeCount())\n",
      "/tmp/ipykernel_591/1336182795.py:27: DeprecationWarning: currentThread() is deprecated, use current_thread() instead\n",
      "  print(\"number of current threads:\" , threading.currentThread().getName())\n",
      "/tmp/ipykernel_591/1336182795.py:27: DeprecationWarning: getName() is deprecated, get the name attribute instead\n",
      "  print(\"number of current threads:\" , threading.currentThread().getName())\n",
      "/tmp/ipykernel_591/1336182795.py:31: DeprecationWarning: getName() is deprecated, get the name attribute instead\n",
      "  print(thread.getName(), thread.is_alive())\n"
     ]
    }
   ],
   "source": [
    "import threading\n",
    "import time\n",
    "\n",
    "def func(time_in_sec):\n",
    "    print(f\"sleeping for {time_in_sec} second\")\n",
    "    time.sleep(time_in_sec)\n",
    "    \n",
    "t1 = threading.Thread(target=func, args=[5])\n",
    "t2 = threading.Thread(target=func, args=[2])\n",
    "t3 = threading.Thread(target=func, args=[1])\n",
    "\n",
    "t1.start()\n",
    "t2.start()\n",
    "t3.start()\n",
    "\n",
    "t1.join()\n",
    "t2.join()\n",
    "t3.join()\n",
    "\n",
    "# calculating time\n",
    "time_cal1 = time.perf_counter()\n",
    "time_cal2 = time.perf_counter()\n",
    "print(time_cal2-time_cal1)\n",
    "# 1-activeCount()\n",
    "print(\"number of active threads:\" , threading.activeCount())\n",
    "# 2-currentThread()\n",
    "print(\"number of current threads:\" , threading.currentThread().getName())\n",
    "# 3-enumerate()\n",
    "print(\"enumerating thread:\")\n",
    "for thread in threading.enumerate():\n",
    "    print(thread.getName(), thread.is_alive())\n",
    "\n",
    "\n",
    "\n",
    "    "
   ]
  },
  {
   "cell_type": "markdown",
   "id": "8fbb8bf4-a972-4651-8e8f-6c9efb84c0ef",
   "metadata": {},
   "source": [
    "Q3. Explain the following functions\n",
    "1-run()\n",
    "2-start()\n",
    "3-join()\n",
    "4-isAlive()\n"
   ]
  },
  {
   "cell_type": "markdown",
   "id": "a8399e35-bf06-446c-9de2-d92c029bf791",
   "metadata": {},
   "source": [
    "Ans-"
   ]
  },
  {
   "cell_type": "code",
   "execution_count": 19,
   "id": "c936329b-95c3-4798-9fec-1fc6d5235918",
   "metadata": {},
   "outputs": [
    {
     "name": "stdout",
     "output_type": "stream",
     "text": [
      "Thread-34 starting\n",
      "Thread-34 counting:0\n",
      "Thread-34 counting:1\n",
      "Thread-34 counting:2\n",
      "Thread-34 counting:3\n",
      "Thread-34 counting:4\n",
      "Thread-34 ending\n",
      "Thread-35 starting\n",
      "Thread-35 counting:0\n",
      "Thread-35 counting:1\n",
      "Thread-35 counting:2\n",
      "Thread-35 counting:3\n",
      "Thread-35 counting:4\n",
      "Thread-35 ending\n",
      "program started\n",
      "program finished\n",
      "thread has finished\n"
     ]
    },
    {
     "name": "stderr",
     "output_type": "stream",
     "text": [
      "/tmp/ipykernel_591/4190688389.py:5: DeprecationWarning: getName() is deprecated, get the name attribute instead\n",
      "  print(f\"{self.getName()} starting\")\n",
      "/tmp/ipykernel_591/4190688389.py:7: DeprecationWarning: getName() is deprecated, get the name attribute instead\n",
      "  print(f\"{self.getName()} counting:{l}\")\n",
      "/tmp/ipykernel_591/4190688389.py:8: DeprecationWarning: getName() is deprecated, get the name attribute instead\n",
      "  print(f\"{self.getName()} ending\")\n"
     ]
    }
   ],
   "source": [
    "import threading\n",
    "\n",
    "class Mythread(threading.Thread):\n",
    "    def run(self):\n",
    "        print(f\"{self.getName()} starting\")\n",
    "        for l in range (5):\n",
    "            print(f\"{self.getName()} counting:{l}\")\n",
    "        print(f\"{self.getName()} ending\")\n",
    "#1- run              \n",
    "thread1=Mythread()\n",
    "thread2=Mythread()\n",
    "              \n",
    "#2- start\n",
    "thread1.start()\n",
    "thread2.start()\n",
    "print(\"program started\")\n",
    "\n",
    "\n",
    "#3- join()               \n",
    "# wait for the thread to finish\n",
    "thread1.join()\n",
    "thread2.join()\n",
    "print(\"program finished\")\n",
    "\n",
    "\n",
    "#4- isAlive()\n",
    "# check if thread is still alive\n",
    "if thread1.is_alive():\n",
    "    print(\"thread still alive\")\n",
    "else:\n",
    "    print(\"thread has finished\")\n",
    "   \n",
    "    \n"
   ]
  },
  {
   "cell_type": "markdown",
   "id": "44b2bf12-57b4-4dd9-93ca-d0b5f5146261",
   "metadata": {},
   "source": [
    "Q4.Write a python program to create two threads. Thread one must print the list of squares and thread\n",
    "two must print the list of cubes"
   ]
  },
  {
   "cell_type": "markdown",
   "id": "10178368-b16c-40f4-87c7-52a924389a73",
   "metadata": {},
   "source": [
    "Ans-"
   ]
  },
  {
   "cell_type": "code",
   "execution_count": 1,
   "id": "ab3129d0-042b-4f4b-8d03-888504f35bc2",
   "metadata": {},
   "outputs": [
    {
     "name": "stdout",
     "output_type": "stream",
     "text": [
      "List of squares: [1, 4, 9, 16, 25, 36, 49]\n",
      "List of cubes: [1, 8, 27, 64, 125, 216, 343]\n",
      "thread1 and thread2 complete\n"
     ]
    }
   ],
   "source": [
    "import threading\n",
    "# list of square\n",
    "def squares_num(numbers):\n",
    "    squares = [num ** 2 for num in numbers]\n",
    "    print(\"List of squares:\", squares)\n",
    "# list of cube\n",
    "def cubes_num(numbers):\n",
    "    cubes = [num ** 3 for num in numbers]\n",
    "    print(\"List of cubes:\", cubes)\n",
    "\n",
    "def main():\n",
    "    numbers = [1, 2, 3, 4, 5, 6, 7] \n",
    "\n",
    "    thread1 = threading.Thread(target=squares_num, args=(numbers,))\n",
    "    thread2 = threading.Thread(target=cubes_num, args=(numbers,))\n",
    "\n",
    "    thread1.start()\n",
    "    thread2.start()\n",
    "\n",
    "    thread1.join()\n",
    "    thread2.join()\n",
    "\n",
    "    print(\"thread1 and thread2 complete\")\n",
    "\n",
    "if __name__ == \"__main__\":\n",
    "    main()\n"
   ]
  },
  {
   "cell_type": "markdown",
   "id": "8cb87941-be24-4d06-9b2c-4d019327c76b",
   "metadata": {},
   "source": [
    "Q5. State advantages and disadvantages of multithreading"
   ]
  },
  {
   "cell_type": "markdown",
   "id": "ccf58b3c-27c5-4bba-9c4c-c6c27e2a39e4",
   "metadata": {},
   "source": [
    "Ans-"
   ]
  },
  {
   "cell_type": "markdown",
   "id": "9f9b9ea2-3bca-4fa1-ac87-843bb10aac4c",
   "metadata": {},
   "source": [
    "***Advantages***--:\n",
    "    Improved performance: Multithreading can help increase the overall performance of an application, especially on systems with multiple processors or cores. It allows multiple tasks to run concurrently, utilizing the available CPU resources more efficiently.\n",
    "\n",
    "Responsiveness: In a single-threaded environment, if a long-running task blocks the main thread, the entire application becomes unresponsive. Multithreading can prevent this issue by running such tasks in separate threads, ensuring the application remains responsive.\n",
    "\n",
    "Better resource utilization: Multithreading allows better utilization of system resources by keeping the CPU busy while waiting for I/O operations or other tasks to complete"
   ]
  },
  {
   "cell_type": "markdown",
   "id": "85f576b1-38e8-4c81-a334-f3bfd51c0e72",
   "metadata": {},
   "source": [
    "***Disadvantages***--:\n",
    "    Complexity: Multithreading adds complexity to the program, making it more difficult to design, implement, and debug. Developers need to be aware of synchronization, deadlocks, race conditions, and other concurrency-related issues.\n",
    "\n",
    "Synchronization overhead: To avoid data corruption and maintain consistency, developers must synchronize access to shared resources, which can result in additional overhead and reduced performance.\n",
    "\n",
    "Context switching: Context switching between threads consumes CPU time and resources, which can lead to performance degradation if not managed efficiently."
   ]
  },
  {
   "cell_type": "markdown",
   "id": "6e610140-4c6e-4f84-a19a-1bd255c74253",
   "metadata": {},
   "source": [
    "Q6. Explain deadlocks and race conditions."
   ]
  },
  {
   "cell_type": "markdown",
   "id": "147f5d59-b5c1-4654-a70c-2b522eba0c8f",
   "metadata": {},
   "source": [
    "Ans-"
   ]
  },
  {
   "cell_type": "markdown",
   "id": "53d6c5e1-f670-4244-aa14-251ea7d3b6c1",
   "metadata": {},
   "source": [
    "***Deadlock***--:\n",
    "    A deadlock occurs when two or more threads or processes are unable to proceed with their execution because each is waiting for a resource that another thread/process holds. In other words, it's a situation where two or more threads are stuck in a circular wait, preventing any of them from making progress."
   ]
  },
  {
   "cell_type": "markdown",
   "id": "e38f10a6-0593-4df0-ac4a-3686ad802e19",
   "metadata": {},
   "source": [
    "***Mutual Exclusion:*** Resources are allocated in a manner that only one thread or process can use a resource at a time.\n",
    "***Hold and Wait:*** A thread holds a resource while waiting for another resource to become available.\n",
    "***No Preemption:*** Resources cannot be forcibly taken away from a thread.\n",
    "***Circular Wait:*** There is a circular chain of threads, each waiting for a resource held by the next thread in the chain."
   ]
  },
  {
   "cell_type": "markdown",
   "id": "cfa2edd7-d5ac-4210-913a-afd0284e359c",
   "metadata": {},
   "source": [
    "***Race condition***:\n",
    "    A race condition occurs when multiple threads or processes access shared resources concurrently, leading to unpredictable outcomes due to the timing of their operations. Race conditions usually happen when at least one of the threads is modifying the shared resource(s), and the final outcome depends on the order in which the threads execute.\n",
    "\n",
    "For instance, if two threads are reading and writing to the same variable without proper synchronization mechanisms, the final value of that variable might be inconsistent and unexpected due to the interleaving of the threads' operations."
   ]
  },
  {
   "cell_type": "code",
   "execution_count": null,
   "id": "2405da8f-26dc-4f45-b787-66181986fdaf",
   "metadata": {},
   "outputs": [],
   "source": []
  }
 ],
 "metadata": {
  "kernelspec": {
   "display_name": "Python 3 (ipykernel)",
   "language": "python",
   "name": "python3"
  },
  "language_info": {
   "codemirror_mode": {
    "name": "ipython",
    "version": 3
   },
   "file_extension": ".py",
   "mimetype": "text/x-python",
   "name": "python",
   "nbconvert_exporter": "python",
   "pygments_lexer": "ipython3",
   "version": "3.10.8"
  }
 },
 "nbformat": 4,
 "nbformat_minor": 5
}
